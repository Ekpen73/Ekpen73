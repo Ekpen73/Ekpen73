{
 "cells": [
  {
   "cell_type": "markdown",
   "metadata": {},
   "source": [
    "## Solution for least square task"
   ]
  },
  {
   "cell_type": "markdown",
   "metadata": {},
   "source": [
    "### CSV import and Header Naming(Pre-processing)"
   ]
  },
  {
   "cell_type": "code",
   "execution_count": 16,
   "metadata": {},
   "outputs": [],
   "source": [
    "import pandas as pd\n",
    "df = pd.read_csv('regression1(1).csv', names=['x','y'])\n",
    "df"
   ]
  },
  {
   "cell_type": "markdown",
   "metadata": {},
   "source": [
    "Python Modules used to build the model"
   ]
  },
  {
   "cell_type": "code",
   "execution_count": 17,
   "metadata": {},
   "outputs": [],
   "source": [
    "%matplotlib inline\n",
    "import pandas as pd\n",
    "import numpy as np\n",
    "import matplotlib.pyplot as plt\n",
    "from scipy import stats\n",
    "import seaborn as sns; sns.set()\n",
    "from sklearn.metrics import r2_score\n",
    "from sklearn.linear_model import LinearRegression"
   ]
  },
  {
   "cell_type": "markdown",
   "metadata": {},
   "source": [
    "Viewing the data statistics"
   ]
  },
  {
   "cell_type": "code",
   "execution_count": 18,
   "metadata": {},
   "outputs": [
    {
     "data": {
      "text/html": [
       "<div>\n",
       "<style scoped>\n",
       "    .dataframe tbody tr th:only-of-type {\n",
       "        vertical-align: middle;\n",
       "    }\n",
       "\n",
       "    .dataframe tbody tr th {\n",
       "        vertical-align: top;\n",
       "    }\n",
       "\n",
       "    .dataframe thead th {\n",
       "        text-align: right;\n",
       "    }\n",
       "</style>\n",
       "<table border=\"1\" class=\"dataframe\">\n",
       "  <thead>\n",
       "    <tr style=\"text-align: right;\">\n",
       "      <th></th>\n",
       "      <th>x</th>\n",
       "      <th>y</th>\n",
       "    </tr>\n",
       "  </thead>\n",
       "  <tbody>\n",
       "    <tr>\n",
       "      <th>count</th>\n",
       "      <td>100.000000</td>\n",
       "      <td>100.000000</td>\n",
       "    </tr>\n",
       "    <tr>\n",
       "      <th>mean</th>\n",
       "      <td>-0.244842</td>\n",
       "      <td>2.717201</td>\n",
       "    </tr>\n",
       "    <tr>\n",
       "      <th>std</th>\n",
       "      <td>2.899370</td>\n",
       "      <td>8.706532</td>\n",
       "    </tr>\n",
       "    <tr>\n",
       "      <th>min</th>\n",
       "      <td>-4.970400</td>\n",
       "      <td>-12.671000</td>\n",
       "    </tr>\n",
       "    <tr>\n",
       "      <th>25%</th>\n",
       "      <td>-2.646225</td>\n",
       "      <td>-4.156400</td>\n",
       "    </tr>\n",
       "    <tr>\n",
       "      <th>50%</th>\n",
       "      <td>-0.381745</td>\n",
       "      <td>3.026350</td>\n",
       "    </tr>\n",
       "    <tr>\n",
       "      <th>75%</th>\n",
       "      <td>2.072125</td>\n",
       "      <td>10.499750</td>\n",
       "    </tr>\n",
       "    <tr>\n",
       "      <th>max</th>\n",
       "      <td>4.772600</td>\n",
       "      <td>19.114000</td>\n",
       "    </tr>\n",
       "  </tbody>\n",
       "</table>\n",
       "</div>"
      ],
      "text/plain": [
       "                x           y\n",
       "count  100.000000  100.000000\n",
       "mean    -0.244842    2.717201\n",
       "std      2.899370    8.706532\n",
       "min     -4.970400  -12.671000\n",
       "25%     -2.646225   -4.156400\n",
       "50%     -0.381745    3.026350\n",
       "75%      2.072125   10.499750\n",
       "max      4.772600   19.114000"
      ]
     },
     "execution_count": 18,
     "metadata": {},
     "output_type": "execute_result"
    }
   ],
   "source": [
    "df.describe()"
   ]
  },
  {
   "cell_type": "markdown",
   "metadata": {},
   "source": [
    "### Building the Model for prediction"
   ]
  },
  {
   "cell_type": "code",
   "execution_count": 19,
   "metadata": {},
   "outputs": [
    {
     "name": "stdout",
     "output_type": "stream",
     "text": [
      "-2.9887758374314997 1.9854246046862236\n"
     ]
    }
   ],
   "source": [
    "# get rows from first column\n",
    "x =df.iloc[:,0]\n",
    "# get columns from second column\n",
    "y = df.iloc[:,1]\n",
    "# Build the model y = m*x + c\n",
    "x_mean = np.mean(x)\n",
    "y_mean = np.mean(y)\n",
    "from sklearn import linear_model\n",
    "reg =linear_model.LinearRegression\n",
    "\n",
    "num = 0\n",
    "den = 0\n",
    "# for loop to stimulate sigma function\n",
    "for i in range (len(x)):\n",
    "    # sum up equation and assigned it to the numerator\n",
    "    num +=(x[i] - x_mean)*(y[i] -y_mean) # loss function\n",
    "    # sum up equation and assigned it to the denominator\n",
    "    den +=(x[i] - x_mean)**2\n",
    "    # find value of M\n",
    "m = num/den\n",
    "# find value of C\n",
    "c = y_mean - m*x_mean\n",
    "print (m,c)    \n"
   ]
  },
  {
   "cell_type": "markdown",
   "metadata": {},
   "source": [
    "### Making Predictions, scatter plot and fitting the regression line"
   ]
  },
  {
   "cell_type": "code",
   "execution_count": 20,
   "metadata": {},
   "outputs": [
    {
     "name": "stdout",
     "output_type": "stream",
     "text": [
      "0      0.688804\n",
      "1     12.453014\n",
      "2      0.424716\n",
      "3     12.474235\n",
      "4      9.201824\n",
      "        ...    \n",
      "95    14.703562\n",
      "96     4.383319\n",
      "97     5.072232\n",
      "98     4.498686\n",
      "99   -12.179878\n",
      "Name: x, Length: 100, dtype: float64\n"
     ]
    },
    {
     "data": {
      "text/plain": [
       "<function matplotlib.pyplot.show(close=None, block=None)>"
      ]
     },
     "execution_count": 20,
     "metadata": {},
     "output_type": "execute_result"
    },
    {
     "data": {
      "image/png": "[encoded data removed]",
      "text/plain": [
       "<Figure size 720x576 with 1 Axes>"
      ]
     },
     "metadata": {},
     "output_type": "display_data"
    }
   ],
   "source": [
    "# Making Predictions with model\n",
    "y_pred = m*x + c\n",
    "# set plot size\n",
    "plt.rcParams['figure.figsize'] = (10.0,8.0)\n",
    "\n",
    "# Labelling \n",
    "plt.xlabel('x')\n",
    "plt.ylabel('y')\n",
    "plt.title('Scatter plot with Regression Line', size = 20)\n",
    "# plotting the scatter plot\n",
    "plt.scatter(x, y, color='red', marker='+')\n",
    "plt.plot(x, y_pred, color = 'blue', label = 'regression line') #predicted\n",
    "print(y_pred)\n",
    "plt.show"
   ]
  },
  {
   "cell_type": "markdown",
   "metadata": {},
   "source": [
    "## Coefficient of Determination = 99%\n",
    "### Coefficient of Determination: 0.9906122798126837 shows the percentage variation in y is explained by X, in this case, the percentage is close to 100% so most of the variable in X is represented by Y."
   ]
  },
  {
   "cell_type": "code",
   "execution_count": 21,
   "metadata": {},
   "outputs": [
    {
     "name": "stdout",
     "output_type": "stream",
     "text": [
      "Correlation Coefficient:           x         y\n",
      "x  1.000000 -0.995295\n",
      "y -0.995295  1.000000\n",
      "Coefficient of Determination: 0.9906122798126837\n"
     ]
    }
   ],
   "source": [
    "import seaborn as sns; sns.set()\n",
    "# Loading the dataset\n",
    "df= pd.read_csv('regression1(1).csv', names=['x','y'])\n",
    "# Numeric columns of the dataset\n",
    "numeric_col = ['x','y']\n",
    " \n",
    "# Correlation Matrix formation\n",
    "corr_matrix = df.loc[:,numeric_col].corr()\n",
    "print('Correlation Coefficient:', corr_matrix) \n",
    "print('Coefficient of Determination:' , R_sq)"
   ]
  },
  {
   "cell_type": "markdown",
   "metadata": {},
   "source": [
    "### visualizing the coefficient of correlation"
   ]
  },
  {
   "cell_type": "code",
   "execution_count": 22,
   "metadata": {},
   "outputs": [
    {
     "data": {
      "text/plain": [
       "<AxesSubplot:>"
      ]
     },
     "execution_count": 22,
     "metadata": {},
     "output_type": "execute_result"
    },
    {
     "data": {
      "image/png": "[encoded data removed]",
      "text/plain": [
       "<Figure size 720x576 with 2 Axes>"
      ]
     },
     "metadata": {},
     "output_type": "display_data"
    }
   ],
   "source": [
    "corr_matrix = np.corrcoef(y, y_pred)\n",
    "corr = corr_matrix[0,1]\n",
    "R_sq = corr**2\n",
    "#Using heatmap to visualize the correlation matrix\n",
    "sns.heatmap(corr_matrix, annot=True)"
   ]
  },
  {
   "cell_type": "markdown",
   "metadata": {},
   "source": [
    "Re-confirmation of model prediction "
   ]
  },
  {
   "cell_type": "code",
   "execution_count": null,
   "metadata": {},
   "outputs": [],
   "source": [
    "# Predict Y\n",
    "Y=m*x + c\n",
    "-2.9887758374314997*x +1.9854246046862236"
   ]
  },
  {
   "cell_type": "markdown",
   "metadata": {},
   "source": [
    "JUSTIFICATION OF OUTCOME"
   ]
  },
  {
   "cell_type": "markdown",
   "metadata": {},
   "source": [
    "####The Least Square Method is an approach to regression model that finds the relationship between two variables. it uses two-dimensional data X axis and Y axis. \n",
    "The Least square model  is based on the idea that the sum of squared  errors obtained must be minimised to the most possible extent.\n",
    "\n",
    " \\mathbit{SSE}=\\sum_{\\mathbit{i}=\\mathbf{1}}^{\\mathbit{N}}\\left({\\hat{\\mathbit{y}}}_\\mathbit{i}-\\mathbit{y}_\\mathbit{i}\\right)^\\mathbf{2}\n",
    "    \n",
    "It uses the model:\n",
    "Y= MX +C.    =  \\hat{\\mathbit{y}}=\\mathbit{\\beta}_\\mathbf{0}+\\mathbit{\\beta}_\\mathbf{1}\\mathbit{x}\n",
    "\n",
    "Intercept =  C   =   {\\hat{\\beta}}_0=\\bar{y}-{\\hat{\\beta}}_1\\bar{x}    =  1.9854246046862236\n",
    "\n",
    "X is independent variable (observed or explanatory variable), y is the response variable\n",
    "\n",
    "Slope = M   \\mathbit{\\beta}i=\\frac{\\mathbit{SSxy}}{\\mathbit{SSxx}}=\\frac{\\sum_{i=1}^{N}\\left(\\mathbit{x}_\\mathbit{i}-\\bar{\\mathbit{x}}\\right)\\left(\\mathbit{y}_\\mathbit{i}-\\bar{\\mathbit{y}}\\right)}{\\sum_{\\mathbit{i}=\\mathbf{1}}^{\\mathbit{N}}\\left(\\mathbit{x}_\\mathbit{i}-\\dot{\\bar{\\mathbit{x}}}\\right)^\\mathbf{2}}                                           =  -2.9887758374314997(negatively sloping)\n",
    "\n",
    "\\bar{x} = Average of all X variables, \\bar{y} is the average of all Y variables\n",
    "\n",
    "y= -2.9887758374314997X + 1.9854246046862236 (y is the target to be predicted)\n",
    "\n",
    "The model trained the given data set and predicts the value Y for any given value of X so that the red marked points in the scatter plot is fitted with a regression line \\hat{y}=\\beta_0+\\beta x to show the relationship.\n",
    "The regression line is fitted  such that  the least distance from every point on the graph minimises the error. The error is the distance between the fitted line and points on the y axis that is not fitted. This is defined as the loss function L\\left(y,\\hat{Y}\\right)=\\left(\\hat{Y}-y\\right)^2.\\  The sum of all error obtained is also squared so that we dont have negative value.\n",
    "The loss function is reduced by the partial derivative of the Loss Function and equating  it to 0 and then finding an equation for M and C as seen above. \n"
   ]
  },
  {
   "cell_type": "markdown",
   "metadata": {},
   "source": [
    "\n"
   ]
  }
 ],
 "metadata": {
  "kernelspec": {
   "display_name": "Python 3",
   "language": "python",
   "name": "python3"
  },
  "language_info": {
   "codemirror_mode": {
    "name": "ipython",
    "version": 3
   },
   "file_extension": ".py",
   "mimetype": "text/x-python",
   "name": "python",
   "nbconvert_exporter": "python",
   "pygments_lexer": "ipython3",
   "version": "3.8.5"
  }
 },
 "nbformat": 4,
 "nbformat_minor": 4
}
