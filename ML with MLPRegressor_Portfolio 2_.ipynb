{
 "cells": [
  {
   "cell_type": "markdown",
   "metadata": {},
   "source": [
    "# Solution for choosing appropriate nodes for MLP Regressor"
   ]
  },
  {
   "cell_type": "markdown",
   "metadata": {},
   "source": [
    "## Import pandas from python library for dataset-CSV file imoprts"
   ]
  },
  {
   "cell_type": "code",
   "execution_count": 74,
   "metadata": {},
   "outputs": [],
   "source": [
    "import pandas as pd\n",
    "df = pd.read_csv('regression2(1).csv', names=['x1','x2','y'])\n",
    "df"
   ]
  },
  {
   "cell_type": "code",
   "execution_count": 4,
   "metadata": {},
   "outputs": [
    {
     "data": {
      "text/html": [
       "<div>\n",
       "<style scoped>\n",
       "    .dataframe tbody tr th:only-of-type {\n",
       "        vertical-align: middle;\n",
       "    }\n",
       "\n",
       "    .dataframe tbody tr th {\n",
       "        vertical-align: top;\n",
       "    }\n",
       "\n",
       "    .dataframe thead th {\n",
       "        text-align: right;\n",
       "    }\n",
       "</style>\n",
       "<table border=\"1\" class=\"dataframe\">\n",
       "  <thead>\n",
       "    <tr style=\"text-align: right;\">\n",
       "      <th></th>\n",
       "      <th>x1</th>\n",
       "      <th>x2</th>\n",
       "      <th>y</th>\n",
       "    </tr>\n",
       "  </thead>\n",
       "  <tbody>\n",
       "    <tr>\n",
       "      <th>count</th>\n",
       "      <td>500.000000</td>\n",
       "      <td>500.000000</td>\n",
       "      <td>500.000000</td>\n",
       "    </tr>\n",
       "    <tr>\n",
       "      <th>mean</th>\n",
       "      <td>0.233919</td>\n",
       "      <td>-0.013329</td>\n",
       "      <td>9.361402</td>\n",
       "    </tr>\n",
       "    <tr>\n",
       "      <th>std</th>\n",
       "      <td>2.900994</td>\n",
       "      <td>2.889343</td>\n",
       "      <td>47.613754</td>\n",
       "    </tr>\n",
       "    <tr>\n",
       "      <th>min</th>\n",
       "      <td>-4.968200</td>\n",
       "      <td>-4.977100</td>\n",
       "      <td>-138.930000</td>\n",
       "    </tr>\n",
       "    <tr>\n",
       "      <th>25%</th>\n",
       "      <td>-2.285350</td>\n",
       "      <td>-2.511675</td>\n",
       "      <td>-23.345750</td>\n",
       "    </tr>\n",
       "    <tr>\n",
       "      <th>50%</th>\n",
       "      <td>0.327460</td>\n",
       "      <td>-0.121155</td>\n",
       "      <td>5.001250</td>\n",
       "    </tr>\n",
       "    <tr>\n",
       "      <th>75%</th>\n",
       "      <td>2.706875</td>\n",
       "      <td>2.479325</td>\n",
       "      <td>42.488250</td>\n",
       "    </tr>\n",
       "    <tr>\n",
       "      <th>max</th>\n",
       "      <td>4.989400</td>\n",
       "      <td>5.093000</td>\n",
       "      <td>142.150000</td>\n",
       "    </tr>\n",
       "  </tbody>\n",
       "</table>\n",
       "</div>"
      ],
      "text/plain": [
       "               x1          x2           y\n",
       "count  500.000000  500.000000  500.000000\n",
       "mean     0.233919   -0.013329    9.361402\n",
       "std      2.900994    2.889343   47.613754\n",
       "min     -4.968200   -4.977100 -138.930000\n",
       "25%     -2.285350   -2.511675  -23.345750\n",
       "50%      0.327460   -0.121155    5.001250\n",
       "75%      2.706875    2.479325   42.488250\n",
       "max      4.989400    5.093000  142.150000"
      ]
     },
     "execution_count": 4,
     "metadata": {},
     "output_type": "execute_result"
    }
   ],
   "source": [
    "df.describe()"
   ]
  },
  {
   "cell_type": "markdown",
   "metadata": {},
   "source": [
    "### Import necessary python Libraries for creating the Multi-layer perceptron used in the MLPRegression task"
   ]
  },
  {
   "cell_type": "code",
   "execution_count": 76,
   "metadata": {},
   "outputs": [],
   "source": [
    "# Import libraries for training and testing\n",
    "import pandas as pd\n",
    "import numpy as np \n",
    "import matplotlib.pyplot as plt\n",
    "from sklearn.neural_network import MLPRegressor\n",
    "from sklearn.model_selection import train_test_split\n",
    "from sklearn.metrics import r2_score\n",
    "from sklearn import metrics\n",
    "from sklearn.svm import SVC \n",
    "from sklearn.preprocessing import StandardScaler"
   ]
  },
  {
   "cell_type": "markdown",
   "metadata": {},
   "source": [
    "#### Creating an array of dependants and independents variables\n"
   ]
  },
  {
   "cell_type": "code",
   "execution_count": 77,
   "metadata": {},
   "outputs": [],
   "source": [
    "import pandas as pd\n",
    "df = pd.read_csv('regression2(1).csv', names=['x1','x2','y'])\n",
    "# creates vector of columns\n",
    "target_column = ['y']\n",
    "predictors = list(set(list(df.columns))-set(target_column))\n",
    "df[predictors] = df[predictors]/df[predictors].max()\n",
    "X = df[predictors].values\n",
    "y = df[target_column].values\n",
    "\n",
    "# get column from first and second index\n",
    "X = df.iloc[:,:2]\n",
    "# get columns from third column\n",
    "y = df.iloc[:,2:]"
   ]
  },
  {
   "cell_type": "markdown",
   "metadata": {},
   "source": [
    "## Splitting and Training the data"
   ]
  },
  {
   "cell_type": "code",
   "execution_count": 78,
   "metadata": {},
   "outputs": [
    {
     "name": "stdout",
     "output_type": "stream",
     "text": [
      "(350, 2)\n",
      "(150, 1)\n"
     ]
    }
   ],
   "source": [
    "X_train, X_test, y_train, y_test = train_test_split(X, y, test_size=0.30, random_state=1)\n",
    "print(X_train.shape)\n",
    "print(y_test.shape)"
   ]
  },
  {
   "cell_type": "markdown",
   "metadata": {},
   "source": [
    "### Scaling the features on the trainning data to allow for normalization as recommended by sklearn documentation\n",
    "#### https://scikit-learn.org/stable/modules/generated/sklearn.preprocessing.StandardScaler.html"
   ]
  },
  {
   "cell_type": "code",
   "execution_count": 79,
   "metadata": {},
   "outputs": [],
   "source": [
    "sc_X = StandardScaler()\n",
    "X_trainscaled=sc_X.fit_transform(X_train)\n",
    "X_testscaled=sc_X.transform(X_test)"
   ]
  },
  {
   "cell_type": "markdown",
   "metadata": {},
   "source": [
    "### Create the MLP Regressor Model\n",
    "\n",
    "#### MLPRegressor trains iteratively, at each time step the partial derivatives of the loss function with respect to the model parameters are computed to update  the parameters. It can also have a regularization term added to the loss function that shrinks model parameters to prevent overfitting.  The model parameters used in this task is taken from the SKlearn documentation https://scikit-learn.org/stable/modules/generated/sklearn.neural_network.MLPRegressor.html."
   ]
  },
  {
   "cell_type": "code",
   "execution_count": 83,
   "metadata": {},
   "outputs": [
    {
     "name": "stderr",
     "output_type": "stream",
     "text": [
      "C:\\ProgramData\\Anaconda3\\lib\\site-packages\\sklearn\\utils\\validation.py:72: DataConversionWarning: A column-vector y was passed when a 1d array was expected. Please change the shape of y to (n_samples, ), for example using ravel().\n",
      "  return f(**kwargs)\n"
     ]
    },
    {
     "data": {
      "text/plain": [
       "MLPRegressor(activation='logistic', hidden_layer_sizes=(50,), max_iter=1700,\n",
       "             random_state=1, solver='sgd')"
      ]
     },
     "execution_count": 83,
     "metadata": {},
     "output_type": "execute_result"
    }
   ],
   "source": [
    "mlp=MLPRegressor(activation='logistic', solver ='sgd', learning_rate='constant', hidden_layer_sizes=(50,), max_iter=1700, random_state=1)\n",
    "mlp.fit(X_train, y_train)\n",
    "# solvers 'lbfgs', 'adam'.\n",
    "#activation{‘identity’, ‘logistic’, ‘tanh’,\n",
    "mlp"
   ]
  },
  {
   "cell_type": "markdown",
   "metadata": {},
   "source": [
    "## Generalization Error:\n",
    "### The generalization error produced in this result, using the above parameters in creating the MLP Regressor tend to be low compare to other parameters.  I have also provide two curves below to demonstrate the impact of the two activation function on the model."
   ]
  },
  {
   "cell_type": "code",
   "execution_count": 84,
   "metadata": {},
   "outputs": [
    {
     "name": "stdout",
     "output_type": "stream",
     "text": [
      "Accuracy training : 0.76\n",
      "Accuracy testing : 0.72\n",
      "Loss :  279.35922246249146\n"
     ]
    }
   ],
   "source": [
    "print('Accuracy training : {:.2f}'.format(mlp.score(X_train,y_train)))\n",
    "print('Accuracy testing : {:.2f}'.format(mlp.score(X_test,y_test)))\n",
    "print(\"Loss : \", mlp.loss_)"
   ]
  },
  {
   "cell_type": "markdown",
   "metadata": {},
   "source": [
    "## Evaluation of Performance\n",
    "### The mean Absolute Error:\n",
    "#### The absolute error is the absolute value of the difference between the predicted value and the actual value,  It takes the average of all the error from every sample in a dataset and gives the output.  MAE tells us how big of an error we can expect from the prediction on average. the result in the error shows the prediction has 18.8 average error\n",
    "### The mean squared error: \n",
    "#### The metric square the errors in the predictions before calculating their mean and then taking the square root of the mean, it then arrive at a measure of the size of the error that gives more weight to the large but infrequent errors than the mean. it tend to provide a balance between overfitting and underfitting. The lower the value the better. In this task using the stated parameter in the mlp regressor as used above provides the understated value of 558.54 and in comparison to using other parameters, this gives a lower value.\n",
    "### The coefficient of determination:\n",
    "#### This metric gives an indication of how good a model fits a given dataset. The R squared value lies between 0 and 1 where 0 indicates that this model doesn't fit the given data and 1 indicates that the model fits perfectly to the dataset provided. The result of 0.757 or 0.76 shows that 76% of the data fits the model. "
   ]
  },
  {
   "cell_type": "code",
   "execution_count": 62,
   "metadata": {},
   "outputs": [
    {
     "name": "stdout",
     "output_type": "stream",
     "text": [
      "Mean Absollute Error: 18.834778731549623\n",
      "Mean Squared Error: 558.5376811351946\n",
      "Coefficient of Determination: 0.7568018501394526\n",
      "Loss :  279.35922246249146\n"
     ]
    }
   ],
   "source": [
    "from sklearn.metrics import r2_score\n",
    "from sklearn import metrics\n",
    "\n",
    "mae = metrics.mean_absolute_error(y_train, mlp.predict(X_train))\n",
    "mse = metrics.mean_squared_error(y_train, mlp.predict(X_train))\n",
    "rsq = metrics.r2_score(y_train, mlp.predict(X_train))\n",
    "\n",
    "print('Mean Absollute Error:', mae)\n",
    "print('Mean Squared Error:', mse)\n",
    "print('Coefficient of Determination:', rsq)\n",
    "print(\"Loss : \", mlp.loss_)"
   ]
  },
  {
   "cell_type": "code",
   "execution_count": 63,
   "metadata": {},
   "outputs": [
    {
     "name": "stdout",
     "output_type": "stream",
     "text": [
      "Mean Absollute Error: 20.067259345982237\n",
      "Mean Squared Error: 603.2929394883461\n",
      "Coefficient of Determination: 0.723376289449297\n"
     ]
    }
   ],
   "source": [
    "mae = metrics.mean_absolute_error(y_test, mlp.predict(X_test))\n",
    "mse = metrics.mean_squared_error(y_test, mlp.predict(X_test))\n",
    "rsq = metrics.r2_score(y_test, mlp.predict(X_test))\n",
    "\n",
    "print('Mean Absollute Error:', mae)\n",
    "print('Mean Squared Error:', mse)\n",
    "print('Coefficient of Determination:', rsq)"
   ]
  },
  {
   "cell_type": "markdown",
   "metadata": {},
   "source": [
    "### Model predictions of trained data with accuracy level"
   ]
  },
  {
   "cell_type": "code",
   "execution_count": null,
   "metadata": {},
   "outputs": [],
   "source": [
    "print('Accuracy training : {:.3f}'.format(mlp.score(X_train,y_train)))\n",
    "print('Accuracy testing : {:.3f}'.format(mlp.score(X_test,y_test)))\n",
    "y_train_predicted = mlp.predict(X_train)\n",
    "print(y_train_predicted)"
   ]
  },
  {
   "cell_type": "markdown",
   "metadata": {},
   "source": [
    "## Plot the 'loss_curve_'  protery on model to see how well the model is learning over the iterations.\n",
    "### Using logistic activation function, with 50 nodes and 1700 epochs(see more explantion above)"
   ]
  },
  {
   "cell_type": "code",
   "execution_count": 67,
   "metadata": {},
   "outputs": [
    {
     "data": {
      "text/plain": [
       "<AxesSubplot:>"
      ]
     },
     "execution_count": 67,
     "metadata": {},
     "output_type": "execute_result"
    },
    {
     "data": {
      "image/png": "[encoded data removed]",
      "text/plain": [
       "<Figure size 432x288 with 1 Axes>"
      ]
     },
     "metadata": {
      "needs_background": "light"
     },
     "output_type": "display_data"
    }
   ],
   "source": [
    "pd.DataFrame(mlp.loss_curve_).plot()"
   ]
  },
  {
   "cell_type": "markdown",
   "metadata": {},
   "source": [
    "## For comparison purpose of the impact of different activation function\n",
    "### Using tanh activation function.\n",
    "#### The below curve is met to compare the Loss curve given different activation function, here tanh activation function was used, tanh appears to reduced the generalization error more, given the same nodes and epochs. This is depicted in the curve been flattened.  Also the Accuracy training and testing slightly improved compare to using logistic activation function."
   ]
  },
  {
   "cell_type": "code",
   "execution_count": 69,
   "metadata": {},
   "outputs": [
    {
     "name": "stderr",
     "output_type": "stream",
     "text": [
      "C:\\ProgramData\\Anaconda3\\lib\\site-packages\\sklearn\\utils\\validation.py:72: DataConversionWarning: A column-vector y was passed when a 1d array was expected. Please change the shape of y to (n_samples, ), for example using ravel().\n",
      "  return f(**kwargs)\n"
     ]
    },
    {
     "name": "stdout",
     "output_type": "stream",
     "text": [
      "Accuracy training : 0.77\n",
      "Accuracy testing : 0.74\n",
      "Loss :  269.4168739458424\n",
      "Mean Absollute Error: 20.067259345982237\n",
      "Mean Squared Error: 603.2929394883461\n",
      "Coefficient of Determination: 0.723376289449297\n"
     ]
    },
    {
     "data": {
      "text/plain": [
       "<AxesSubplot:>"
      ]
     },
     "execution_count": 69,
     "metadata": {},
     "output_type": "execute_result"
    },
    {
     "data": {
      "image/png": "[encoded data removed]",
      "text/plain": [
       "<Figure size 432x288 with 1 Axes>"
      ]
     },
     "metadata": {
      "needs_background": "light"
     },
     "output_type": "display_data"
    }
   ],
   "source": [
    "mlp=MLPRegressor(activation='tanh', solver ='sgd', learning_rate='constant', hidden_layer_sizes=(50,), max_iter=1700, random_state=1)\n",
    "mlp.fit(X_train, y_train)\n",
    "# solvers 'lbfgs', 'adam'.\n",
    "#activation{‘identity’, ‘logistic’, ‘tanh’,\n",
    "mlp\n",
    "print('Accuracy training : {:.2f}'.format(mlp.score(X_train,y_train)))\n",
    "print('Accuracy testing : {:.2f}'.format(mlp.score(X_test,y_test)))\n",
    "print(\"Loss : \", mlp.loss_)\n",
    "print('Mean Absollute Error:', mae)\n",
    "print('Mean Squared Error:', mse)\n",
    "print('Coefficient of Determination:', rsq)\n",
    "pd.DataFrame(mlp.loss_curve_).plot()\n"
   ]
  },
  {
   "cell_type": "markdown",
   "metadata": {},
   "source": [
    "## Explanation of Methodology and justification of Choice of Model"
   ]
  },
  {
   "cell_type": "markdown",
   "metadata": {},
   "source": [
    "All the modules used in modelling the MLPRegressor was imported from python library. I started by importing the data set. This data was then divided into two set, 70% for training and 30% for testing. Thereafter the Dataset features were scaled as recommended by Sklearn API documentation. \n",
    "The MLPRegressor was created using the default parameters from the Sklearn documentation. \n",
    "\n",
    "Solver{‘lbfgs’, ‘sgd’, ‘adam’}.\n",
    "\n",
    "In training the model I used all the solvers  above in the documentation  to observe which one will give the best result.\n",
    "The solver which updates weights values that minimize the loss function in batches among other solver was the “stochastic gradient descent(Sgd).\n",
    "The “Sgd”  with maximum iteration(epochs) of 1800, optimises the  loss function( seen  graph above).  Sgd when compared to other solver appears to be faster to converge in comparison to other solvers.  In search of the number of nodes after using various numbers, the following gave the same and a better result: \n",
    "\n",
    "50 node at an epochs of 1700 or\n",
    "100 nodes at an epoch of 1800\n",
    "\n",
    "The generalization error (see graph above) was the more reduced at using 50 nodes with epochs of 1700.\n",
    "\n",
    "Activation {‘identity’, ‘logistic’, ‘tanh’},\n",
    "\n",
    "Activation function for the hidden layer used in this task were logistics and tanh, the two was used for comparison purpose and produced a better comparable result to other activation function. Tanh appears to reduce further the generalization error with slightly higher accuracy(see graph above).\n"
   ]
  }
 ],
 "metadata": {
  "kernelspec": {
   "display_name": "Python 3",
   "language": "python",
   "name": "python3"
  },
  "language_info": {
   "codemirror_mode": {
    "name": "ipython",
    "version": 3
   },
   "file_extension": ".py",
   "mimetype": "text/x-python",
   "name": "python",
   "nbconvert_exporter": "python",
   "pygments_lexer": "ipython3",
   "version": "3.8.5"
  }
 },
 "nbformat": 4,
 "nbformat_minor": 4
}
